{
  "metadata": {
    "kernelspec": {
      "display_name": "Python 3",
      "name": "python3",
      "language": "python"
    },
    "language_info": {
      "version": "3.6.1",
      "nbconvert_exporter": "python",
      "file_extension": ".py",
      "pygments_lexer": "ipython3",
      "mimetype": "text/x-python",
      "name": "python",
      "codemirror_mode": {
        "version": 3,
        "name": "ipython"
      }
    },
    "colab": {
      "name": "Final Exam_MNIST.ipynb",
      "provenance": [],
      "collapsed_sections": [],
      "include_colab_link": true
    },
    "accelerator": "GPU",
    "gpuClass": "standard"
  },
  "nbformat_minor": 0,
  "nbformat": 4,
  "cells": [
    {
      "cell_type": "markdown",
      "metadata": {
        "id": "view-in-github",
        "colab_type": "text"
      },
      "source": [
        "<a href=\"https://colab.research.google.com/github/wahyumulyautama/MachineLeaning_TEL-U/blob/main/Final_Exam_MNIST.ipynb\" target=\"_parent\"><img src=\"https://colab.research.google.com/assets/colab-badge.svg\" alt=\"Open In Colab\"/></a>"
      ]
    },
    {
      "cell_type": "markdown",
      "source": [
        "Importing key libraries, and reading data"
      ],
      "metadata": {
        "_cell_guid": "440129fa-bb2d-47b8-9415-714467d98743",
        "_uuid": "44f63ca7fc70094c75598c27b433b316ea406237",
        "_execution_state": "idle",
        "id": "-1xlai6yqdNv"
      }
    },
    {
      "cell_type": "code",
      "source": [
        "import pandas as pd\n",
        "import numpy as np\n",
        "\n",
        "np.random.seed(1212)\n",
        "\n",
        "import keras\n",
        "from keras.models import Model\n",
        "from keras.layers import *\n",
        "from keras import optimizers"
      ],
      "metadata": {
        "_cell_guid": "55ec59e1-8a8c-42d2-8ccc-b6d95ea198b4",
        "_uuid": "a6d625ede9e19ac1f146a5f63d6ca19c4b98e20c",
        "_execution_state": "busy",
        "id": "0msya1OiqdNw"
      },
      "execution_count": 1,
      "outputs": []
    },
    {
      "cell_type": "code",
      "source": [
        "from google.colab import drive\n",
        "drive.mount('/content/drive')"
      ],
      "metadata": {
        "colab": {
          "base_uri": "https://localhost:8080/"
        },
        "id": "T9-m8tkQvJhz",
        "outputId": "3e714519-8345-4112-b1f9-04fa26bd0c33"
      },
      "execution_count": 3,
      "outputs": [
        {
          "output_type": "stream",
          "name": "stdout",
          "text": [
            "Mounted at /content/drive\n"
          ]
        }
      ]
    },
    {
      "cell_type": "code",
      "source": [
        "df_train = pd.read_csv('/content/drive/MyDrive/DOCUMENT/Dataset/MNIST/train.csv')\n",
        "df_test = pd.read_csv('/content/drive/MyDrive/DOCUMENT/Dataset/MNIST/test.csv')"
      ],
      "metadata": {
        "_cell_guid": "daa0805e-e1dd-4806-b2db-ff0124febe7d",
        "_uuid": "be0a7acbb3bfc83fd3103b4a401337aafe57c00d",
        "_execution_state": "busy",
        "jupyter": {
          "outputs_hidden": false
        },
        "id": "9h0nhQynqdNx"
      },
      "execution_count": 7,
      "outputs": []
    },
    {
      "cell_type": "code",
      "source": [
        "df_train.head() # 784 features, 1 label"
      ],
      "metadata": {
        "_cell_guid": "dfae6a31-23ea-4d88-9fcd-06b8b705b614",
        "_uuid": "0f7bfb5923e5b4ed5a5149c007a2cd39cb9b8282",
        "_execution_state": "busy",
        "jupyter": {
          "outputs_hidden": false
        },
        "colab": {
          "base_uri": "https://localhost:8080/",
          "height": 236
        },
        "id": "NMh10ccKqdNx",
        "outputId": "59cafc08-d740-4963-8a01-6a45a33da437"
      },
      "execution_count": 8,
      "outputs": [
        {
          "output_type": "execute_result",
          "data": {
            "text/plain": [
              "   label  pixel0  pixel1  pixel2  pixel3  pixel4  pixel5  pixel6  pixel7  \\\n",
              "0      1       0       0       0       0       0       0       0       0   \n",
              "1      0       0       0       0       0       0       0       0       0   \n",
              "2      1       0       0       0       0       0       0       0       0   \n",
              "3      4       0       0       0       0       0       0       0       0   \n",
              "4      0       0       0       0       0       0       0       0       0   \n",
              "\n",
              "   pixel8  ...  pixel774  pixel775  pixel776  pixel777  pixel778  pixel779  \\\n",
              "0       0  ...         0         0         0         0         0         0   \n",
              "1       0  ...         0         0         0         0         0         0   \n",
              "2       0  ...         0         0         0         0         0         0   \n",
              "3       0  ...         0         0         0         0         0         0   \n",
              "4       0  ...         0         0         0         0         0         0   \n",
              "\n",
              "   pixel780  pixel781  pixel782  pixel783  \n",
              "0         0         0         0         0  \n",
              "1         0         0         0         0  \n",
              "2         0         0         0         0  \n",
              "3         0         0         0         0  \n",
              "4         0         0         0         0  \n",
              "\n",
              "[5 rows x 785 columns]"
            ],
            "text/html": [
              "\n",
              "  <div id=\"df-b9a8df83-abe8-439f-a2c6-d04ac5bec5dc\">\n",
              "    <div class=\"colab-df-container\">\n",
              "      <div>\n",
              "<style scoped>\n",
              "    .dataframe tbody tr th:only-of-type {\n",
              "        vertical-align: middle;\n",
              "    }\n",
              "\n",
              "    .dataframe tbody tr th {\n",
              "        vertical-align: top;\n",
              "    }\n",
              "\n",
              "    .dataframe thead th {\n",
              "        text-align: right;\n",
              "    }\n",
              "</style>\n",
              "<table border=\"1\" class=\"dataframe\">\n",
              "  <thead>\n",
              "    <tr style=\"text-align: right;\">\n",
              "      <th></th>\n",
              "      <th>label</th>\n",
              "      <th>pixel0</th>\n",
              "      <th>pixel1</th>\n",
              "      <th>pixel2</th>\n",
              "      <th>pixel3</th>\n",
              "      <th>pixel4</th>\n",
              "      <th>pixel5</th>\n",
              "      <th>pixel6</th>\n",
              "      <th>pixel7</th>\n",
              "      <th>pixel8</th>\n",
              "      <th>...</th>\n",
              "      <th>pixel774</th>\n",
              "      <th>pixel775</th>\n",
              "      <th>pixel776</th>\n",
              "      <th>pixel777</th>\n",
              "      <th>pixel778</th>\n",
              "      <th>pixel779</th>\n",
              "      <th>pixel780</th>\n",
              "      <th>pixel781</th>\n",
              "      <th>pixel782</th>\n",
              "      <th>pixel783</th>\n",
              "    </tr>\n",
              "  </thead>\n",
              "  <tbody>\n",
              "    <tr>\n",
              "      <th>0</th>\n",
              "      <td>1</td>\n",
              "      <td>0</td>\n",
              "      <td>0</td>\n",
              "      <td>0</td>\n",
              "      <td>0</td>\n",
              "      <td>0</td>\n",
              "      <td>0</td>\n",
              "      <td>0</td>\n",
              "      <td>0</td>\n",
              "      <td>0</td>\n",
              "      <td>...</td>\n",
              "      <td>0</td>\n",
              "      <td>0</td>\n",
              "      <td>0</td>\n",
              "      <td>0</td>\n",
              "      <td>0</td>\n",
              "      <td>0</td>\n",
              "      <td>0</td>\n",
              "      <td>0</td>\n",
              "      <td>0</td>\n",
              "      <td>0</td>\n",
              "    </tr>\n",
              "    <tr>\n",
              "      <th>1</th>\n",
              "      <td>0</td>\n",
              "      <td>0</td>\n",
              "      <td>0</td>\n",
              "      <td>0</td>\n",
              "      <td>0</td>\n",
              "      <td>0</td>\n",
              "      <td>0</td>\n",
              "      <td>0</td>\n",
              "      <td>0</td>\n",
              "      <td>0</td>\n",
              "      <td>...</td>\n",
              "      <td>0</td>\n",
              "      <td>0</td>\n",
              "      <td>0</td>\n",
              "      <td>0</td>\n",
              "      <td>0</td>\n",
              "      <td>0</td>\n",
              "      <td>0</td>\n",
              "      <td>0</td>\n",
              "      <td>0</td>\n",
              "      <td>0</td>\n",
              "    </tr>\n",
              "    <tr>\n",
              "      <th>2</th>\n",
              "      <td>1</td>\n",
              "      <td>0</td>\n",
              "      <td>0</td>\n",
              "      <td>0</td>\n",
              "      <td>0</td>\n",
              "      <td>0</td>\n",
              "      <td>0</td>\n",
              "      <td>0</td>\n",
              "      <td>0</td>\n",
              "      <td>0</td>\n",
              "      <td>...</td>\n",
              "      <td>0</td>\n",
              "      <td>0</td>\n",
              "      <td>0</td>\n",
              "      <td>0</td>\n",
              "      <td>0</td>\n",
              "      <td>0</td>\n",
              "      <td>0</td>\n",
              "      <td>0</td>\n",
              "      <td>0</td>\n",
              "      <td>0</td>\n",
              "    </tr>\n",
              "    <tr>\n",
              "      <th>3</th>\n",
              "      <td>4</td>\n",
              "      <td>0</td>\n",
              "      <td>0</td>\n",
              "      <td>0</td>\n",
              "      <td>0</td>\n",
              "      <td>0</td>\n",
              "      <td>0</td>\n",
              "      <td>0</td>\n",
              "      <td>0</td>\n",
              "      <td>0</td>\n",
              "      <td>...</td>\n",
              "      <td>0</td>\n",
              "      <td>0</td>\n",
              "      <td>0</td>\n",
              "      <td>0</td>\n",
              "      <td>0</td>\n",
              "      <td>0</td>\n",
              "      <td>0</td>\n",
              "      <td>0</td>\n",
              "      <td>0</td>\n",
              "      <td>0</td>\n",
              "    </tr>\n",
              "    <tr>\n",
              "      <th>4</th>\n",
              "      <td>0</td>\n",
              "      <td>0</td>\n",
              "      <td>0</td>\n",
              "      <td>0</td>\n",
              "      <td>0</td>\n",
              "      <td>0</td>\n",
              "      <td>0</td>\n",
              "      <td>0</td>\n",
              "      <td>0</td>\n",
              "      <td>0</td>\n",
              "      <td>...</td>\n",
              "      <td>0</td>\n",
              "      <td>0</td>\n",
              "      <td>0</td>\n",
              "      <td>0</td>\n",
              "      <td>0</td>\n",
              "      <td>0</td>\n",
              "      <td>0</td>\n",
              "      <td>0</td>\n",
              "      <td>0</td>\n",
              "      <td>0</td>\n",
              "    </tr>\n",
              "  </tbody>\n",
              "</table>\n",
              "<p>5 rows × 785 columns</p>\n",
              "</div>\n",
              "      <button class=\"colab-df-convert\" onclick=\"convertToInteractive('df-b9a8df83-abe8-439f-a2c6-d04ac5bec5dc')\"\n",
              "              title=\"Convert this dataframe to an interactive table.\"\n",
              "              style=\"display:none;\">\n",
              "        \n",
              "  <svg xmlns=\"http://www.w3.org/2000/svg\" height=\"24px\"viewBox=\"0 0 24 24\"\n",
              "       width=\"24px\">\n",
              "    <path d=\"M0 0h24v24H0V0z\" fill=\"none\"/>\n",
              "    <path d=\"M18.56 5.44l.94 2.06.94-2.06 2.06-.94-2.06-.94-.94-2.06-.94 2.06-2.06.94zm-11 1L8.5 8.5l.94-2.06 2.06-.94-2.06-.94L8.5 2.5l-.94 2.06-2.06.94zm10 10l.94 2.06.94-2.06 2.06-.94-2.06-.94-.94-2.06-.94 2.06-2.06.94z\"/><path d=\"M17.41 7.96l-1.37-1.37c-.4-.4-.92-.59-1.43-.59-.52 0-1.04.2-1.43.59L10.3 9.45l-7.72 7.72c-.78.78-.78 2.05 0 2.83L4 21.41c.39.39.9.59 1.41.59.51 0 1.02-.2 1.41-.59l7.78-7.78 2.81-2.81c.8-.78.8-2.07 0-2.86zM5.41 20L4 18.59l7.72-7.72 1.47 1.35L5.41 20z\"/>\n",
              "  </svg>\n",
              "      </button>\n",
              "      \n",
              "  <style>\n",
              "    .colab-df-container {\n",
              "      display:flex;\n",
              "      flex-wrap:wrap;\n",
              "      gap: 12px;\n",
              "    }\n",
              "\n",
              "    .colab-df-convert {\n",
              "      background-color: #E8F0FE;\n",
              "      border: none;\n",
              "      border-radius: 50%;\n",
              "      cursor: pointer;\n",
              "      display: none;\n",
              "      fill: #1967D2;\n",
              "      height: 32px;\n",
              "      padding: 0 0 0 0;\n",
              "      width: 32px;\n",
              "    }\n",
              "\n",
              "    .colab-df-convert:hover {\n",
              "      background-color: #E2EBFA;\n",
              "      box-shadow: 0px 1px 2px rgba(60, 64, 67, 0.3), 0px 1px 3px 1px rgba(60, 64, 67, 0.15);\n",
              "      fill: #174EA6;\n",
              "    }\n",
              "\n",
              "    [theme=dark] .colab-df-convert {\n",
              "      background-color: #3B4455;\n",
              "      fill: #D2E3FC;\n",
              "    }\n",
              "\n",
              "    [theme=dark] .colab-df-convert:hover {\n",
              "      background-color: #434B5C;\n",
              "      box-shadow: 0px 1px 3px 1px rgba(0, 0, 0, 0.15);\n",
              "      filter: drop-shadow(0px 1px 2px rgba(0, 0, 0, 0.3));\n",
              "      fill: #FFFFFF;\n",
              "    }\n",
              "  </style>\n",
              "\n",
              "      <script>\n",
              "        const buttonEl =\n",
              "          document.querySelector('#df-b9a8df83-abe8-439f-a2c6-d04ac5bec5dc button.colab-df-convert');\n",
              "        buttonEl.style.display =\n",
              "          google.colab.kernel.accessAllowed ? 'block' : 'none';\n",
              "\n",
              "        async function convertToInteractive(key) {\n",
              "          const element = document.querySelector('#df-b9a8df83-abe8-439f-a2c6-d04ac5bec5dc');\n",
              "          const dataTable =\n",
              "            await google.colab.kernel.invokeFunction('convertToInteractive',\n",
              "                                                     [key], {});\n",
              "          if (!dataTable) return;\n",
              "\n",
              "          const docLinkHtml = 'Like what you see? Visit the ' +\n",
              "            '<a target=\"_blank\" href=https://colab.research.google.com/notebooks/data_table.ipynb>data table notebook</a>'\n",
              "            + ' to learn more about interactive tables.';\n",
              "          element.innerHTML = '';\n",
              "          dataTable['output_type'] = 'display_data';\n",
              "          await google.colab.output.renderOutput(dataTable, element);\n",
              "          const docLink = document.createElement('div');\n",
              "          docLink.innerHTML = docLinkHtml;\n",
              "          element.appendChild(docLink);\n",
              "        }\n",
              "      </script>\n",
              "    </div>\n",
              "  </div>\n",
              "  "
            ]
          },
          "metadata": {},
          "execution_count": 8
        }
      ]
    },
    {
      "cell_type": "markdown",
      "source": [
        "## Splitting into training and validation dataset"
      ],
      "metadata": {
        "_cell_guid": "45bd232a-4000-4a06-a3ed-0be9f993746c",
        "_uuid": "f0970dcbc0b6791dc44936d8d63e6985dfb6960c",
        "_execution_state": "idle",
        "id": "cOQpsJjvqdNy"
      }
    },
    {
      "cell_type": "code",
      "source": [
        "df_features = df_train.iloc[:, 1:785]\n",
        "df_label = df_train.iloc[:, 0]\n",
        "\n",
        "X_test = df_test.iloc[:, 0:784]\n",
        "\n",
        "print(X_test.shape)"
      ],
      "metadata": {
        "_cell_guid": "bb78680a-ce50-4ee9-a77f-265b9ee38aee",
        "_uuid": "16e39b5512ed29c8f9d7db51331693e4689ce306",
        "_execution_state": "busy",
        "jupyter": {
          "outputs_hidden": false
        },
        "colab": {
          "base_uri": "https://localhost:8080/"
        },
        "id": "pDN6vPVIqdNy",
        "outputId": "23620878-8e82-476d-c26a-6d8e2ee86ac7"
      },
      "execution_count": 9,
      "outputs": [
        {
          "output_type": "stream",
          "name": "stdout",
          "text": [
            "(28000, 784)\n"
          ]
        }
      ]
    },
    {
      "cell_type": "code",
      "source": [
        "from sklearn.model_selection import train_test_split\n",
        "X_train, X_cv, y_train, y_cv = train_test_split(df_features, df_label, \n",
        "                                                test_size = 0.2,\n",
        "                                                random_state = 1212)\n",
        "\n",
        "X_train=X_train.values.reshape(33600,784) #(33600, 784)\n",
        "X_cv=X_cv.values.reshape(8400,784) #(8400, 784)\n",
        "\n",
        "X_test = X_test.reshape(28000, 784)"
      ],
      "metadata": {
        "_cell_guid": "a3fb0b37-1edf-42bd-b951-86f254b78fc1",
        "_uuid": "a98808f6188e9c44741ad2b5c25a894106406dfc",
        "_execution_state": "busy",
        "jupyter": {
          "outputs_hidden": false
        },
        "id": "0SJEzMNlqdN0"
      },
      "execution_count": 51,
      "outputs": []
    },
    {
      "cell_type": "markdown",
      "source": [
        "## Data cleaning, normalization and selection"
      ],
      "metadata": {
        "_cell_guid": "4486ba9e-b8b3-4f09-a597-3d5e6bbd6c1c",
        "_uuid": "9a10a6e1aae9645a7c3e5a703d78d9c3b096f6d3",
        "_execution_state": "idle",
        "id": "Xw5x1C48qdN2"
      }
    },
    {
      "cell_type": "code",
      "source": [
        "print((min(X_train[1]), max(X_train[1])))"
      ],
      "metadata": {
        "_cell_guid": "4d0e07b5-28dd-42f1-b425-6414aea90cde",
        "_uuid": "cc2daf9f099fb62e3b470f913349428ef396b75b",
        "_execution_state": "busy",
        "jupyter": {
          "outputs_hidden": false
        },
        "colab": {
          "base_uri": "https://localhost:8080/"
        },
        "id": "OWLV0jsiqdN3",
        "outputId": "5e4d0952-5bd8-4aa5-b088-7a901b8fb6c6"
      },
      "execution_count": 52,
      "outputs": [
        {
          "output_type": "stream",
          "name": "stdout",
          "text": [
            "(0, 255)\n"
          ]
        }
      ]
    },
    {
      "cell_type": "markdown",
      "source": [
        "As the pixel intensities are currently between the range of 0 and 255, we proceed to normalize the features, using broadcasting. In addition, we proceed to convert our labels from a class vector to binary One Hot Encoded"
      ],
      "metadata": {
        "_cell_guid": "60b333cc-a76e-4713-97f5-a9095e27e43b",
        "_uuid": "11d4f22158c013b3f028f5c11340b4a4b7291d1e",
        "_execution_state": "idle",
        "id": "oLl27AJGqdN4"
      }
    },
    {
      "cell_type": "code",
      "source": [
        "from keras.utils import np_utils\n",
        "# Feature Normalization \n",
        "X_train = X_train.astype('float32'); X_cv= X_cv.astype('float32'); X_test = X_test.astype('float32')\n",
        "X_train /= 255; X_cv /= 255; X_test /= 255\n",
        "\n",
        "# Convert labels to One Hot Encoded\n",
        "num_digits = 10\n",
        "y_train = keras.utils.np_utils.to_categorical(y_train, num_digits)\n",
        "y_cv = keras.utils.np_utils.to_categorical(y_cv, num_digits)"
      ],
      "metadata": {
        "_cell_guid": "e9f8eaa0-c77e-4510-9ff1-bb56e1d5f76d",
        "_uuid": "c24261ffd2384078a836a909ea4839a31d51dd66",
        "_execution_state": "busy",
        "jupyter": {
          "outputs_hidden": false
        },
        "id": "xPEoRxmAqdN4"
      },
      "execution_count": 53,
      "outputs": []
    },
    {
      "cell_type": "code",
      "source": [
        "# Printing 2 examples of labels after conversion\n",
        "print(y_train[0]) # 2\n",
        "print(y_train[3]) # 7"
      ],
      "metadata": {
        "_cell_guid": "6667ca35-44ff-43f3-b88b-27b787be4ee0",
        "_uuid": "3fdf37a538504f4e5288cbb8b70a719c2689caca",
        "_execution_state": "busy",
        "jupyter": {
          "outputs_hidden": false
        },
        "colab": {
          "base_uri": "https://localhost:8080/"
        },
        "id": "wSFQ_GbfqdN4",
        "outputId": "46beea0c-34e9-4083-99f0-515b55f83f99"
      },
      "execution_count": 54,
      "outputs": [
        {
          "output_type": "stream",
          "name": "stdout",
          "text": [
            "[0. 0. 1. 0. 0. 0. 0. 0. 0. 0.]\n",
            "[0. 0. 0. 0. 0. 0. 0. 1. 0. 0.]\n"
          ]
        }
      ]
    },
    {
      "cell_type": "markdown",
      "source": [
        "## Model Fitting"
      ],
      "metadata": {
        "_cell_guid": "7d4e437c-12ea-4bad-a580-5504e8a77da0",
        "_uuid": "0776b5f2aff1ebb6f12c2a9ee8e93013c690caf6",
        "_execution_state": "idle",
        "id": "1fv93ORJqdN5"
      }
    },
    {
      "cell_type": "markdown",
      "source": [
        "We proceed by fitting several simple neural network models using Keras (with TensorFlow as our backend) and collect their accuracy. The model that performs the best on the validation set will be used as the model of choice for the competition.\n",
        "\n",
        "Model 1: Simple Neural Network with 4 layers (300, 100, 100, 200)\n",
        "\n",
        "In our first model, we will use the Keras library to train a neural network with the activation function set as ReLu. To determine which class to output, we will rely on the SoftMax function"
      ],
      "metadata": {
        "_uuid": "064d83d74bf2e0842b21dcb3cc93f8427b04b6ea",
        "_execution_state": "idle",
        "_cell_guid": "8f441392-a707-499c-8816-00c8aa1a7757",
        "id": "EcmAssDtqdN5"
      }
    },
    {
      "cell_type": "code",
      "source": [
        "# Input Parameters\n",
        "n_input = 784 # number of features\n",
        "n_hidden_1 = 300\n",
        "n_hidden_2 = 100\n",
        "n_hidden_3 = 100\n",
        "n_hidden_4 = 200\n",
        "num_digits = 10"
      ],
      "metadata": {
        "_cell_guid": "be9af3d4-ddac-4f85-945f-bd1cdf09fc15",
        "_uuid": "b88da407b6dab83e54b5380e0e62459577949932",
        "_execution_state": "busy",
        "jupyter": {
          "outputs_hidden": false
        },
        "id": "wKhBsegHqdN6"
      },
      "execution_count": 55,
      "outputs": []
    },
    {
      "cell_type": "code",
      "source": [
        "Inp = Input(shape=(784,))\n",
        "x = Dense(n_hidden_1, activation='relu', name = \"Hidden_Layer_1\")(Inp)\n",
        "x = Dense(n_hidden_2, activation='relu', name = \"Hidden_Layer_2\")(x)\n",
        "x = Dense(n_hidden_3, activation='relu', name = \"Hidden_Layer_3\")(x)\n",
        "x = Dense(n_hidden_4, activation='relu', name = \"Hidden_Layer_4\")(x)\n",
        "output = Dense(num_digits, activation='softmax', name = \"Output_Layer\")(x)"
      ],
      "metadata": {
        "_cell_guid": "74eac473-a6cb-4356-a982-ef3cb6c971de",
        "_uuid": "f97a558010d88407363bbb08fa00e7c87a3d6ceb",
        "_execution_state": "busy",
        "jupyter": {
          "outputs_hidden": false
        },
        "id": "p6dsK19kqdN7"
      },
      "execution_count": 56,
      "outputs": []
    },
    {
      "cell_type": "code",
      "source": [
        "# Our model would have '6' layers - input layer, 4 hidden layer and 1 output layer\n",
        "model = Model(Inp, output)\n",
        "model.summary() # We have 297,910 parameters to estimate"
      ],
      "metadata": {
        "_cell_guid": "bf09781e-6376-4f2d-a872-6292d466f657",
        "_uuid": "aaf8fe1cd6cb32675f0ed5009d7bc31d6f71e4ea",
        "_execution_state": "busy",
        "jupyter": {
          "outputs_hidden": false
        },
        "colab": {
          "base_uri": "https://localhost:8080/"
        },
        "id": "kyv_B1CTqdN7",
        "outputId": "ff895c2e-c19e-4148-c707-4d63203bbd32"
      },
      "execution_count": 57,
      "outputs": [
        {
          "output_type": "stream",
          "name": "stdout",
          "text": [
            "Model: \"model_2\"\n",
            "_________________________________________________________________\n",
            " Layer (type)                Output Shape              Param #   \n",
            "=================================================================\n",
            " input_4 (InputLayer)        [(None, 784)]             0         \n",
            "                                                                 \n",
            " Hidden_Layer_1 (Dense)      (None, 300)               235500    \n",
            "                                                                 \n",
            " Hidden_Layer_2 (Dense)      (None, 100)               30100     \n",
            "                                                                 \n",
            " Hidden_Layer_3 (Dense)      (None, 100)               10100     \n",
            "                                                                 \n",
            " Hidden_Layer_4 (Dense)      (None, 200)               20200     \n",
            "                                                                 \n",
            " Output_Layer (Dense)        (None, 10)                2010      \n",
            "                                                                 \n",
            "=================================================================\n",
            "Total params: 297,910\n",
            "Trainable params: 297,910\n",
            "Non-trainable params: 0\n",
            "_________________________________________________________________\n"
          ]
        }
      ]
    },
    {
      "cell_type": "code",
      "source": [
        "# Insert Hyperparameters\n",
        "learning_rate = 0.1\n",
        "training_epochs = 20\n",
        "batch_size = 100\n",
        "sgd = tf.keras.optimizers.SGD(lr=learning_rate)"
      ],
      "metadata": {
        "_cell_guid": "906807f1-ed62-4dee-a423-5f15842fb28f",
        "_uuid": "c4ea7858fbdf41308dcdb5d373af11484d5b5140",
        "_execution_state": "busy",
        "jupyter": {
          "outputs_hidden": false
        },
        "colab": {
          "base_uri": "https://localhost:8080/"
        },
        "id": "gLQxmLi5qdN7",
        "outputId": "c0299964-e7aa-4d79-efc6-0e2c3c152a5d"
      },
      "execution_count": 58,
      "outputs": [
        {
          "output_type": "stream",
          "name": "stderr",
          "text": [
            "/usr/local/lib/python3.7/dist-packages/keras/optimizer_v2/gradient_descent.py:102: UserWarning: The `lr` argument is deprecated, use `learning_rate` instead.\n",
            "  super(SGD, self).__init__(name, **kwargs)\n"
          ]
        }
      ]
    },
    {
      "cell_type": "code",
      "source": [
        "# We rely on the plain vanilla Stochastic Gradient Descent as our optimizing methodology\n",
        "model.compile(loss='categorical_crossentropy',\n",
        "              optimizer='sgd',\n",
        "              metrics=['accuracy'])"
      ],
      "metadata": {
        "_cell_guid": "5678ce6d-58eb-4394-9a77-b67c94c2ca4f",
        "_uuid": "775193de659c41c949495a2afa3b14024a2536a7",
        "_execution_state": "busy",
        "jupyter": {
          "outputs_hidden": false
        },
        "id": "nPn1glzzqdN8"
      },
      "execution_count": 59,
      "outputs": []
    },
    {
      "cell_type": "code",
      "source": [
        "history1 = model.fit(X_train, y_train,\n",
        "                     batch_size = batch_size,\n",
        "                     epochs = training_epochs,\n",
        "                     verbose = 2,\n",
        "                     validation_data=(X_cv, y_cv))"
      ],
      "metadata": {
        "_cell_guid": "1a547d04-6aeb-4c76-8fbc-7fbca1b50b2a",
        "_uuid": "4960dfa65394fb0314ce9cb7af63d48709a39d1a",
        "_execution_state": "busy",
        "jupyter": {
          "outputs_hidden": false
        },
        "colab": {
          "base_uri": "https://localhost:8080/"
        },
        "id": "0PLlbtwnqdN8",
        "outputId": "64f9e297-5cbe-4506-a745-b5d5d676b068"
      },
      "execution_count": 60,
      "outputs": [
        {
          "output_type": "stream",
          "name": "stdout",
          "text": [
            "Epoch 1/20\n",
            "336/336 - 2s - loss: 1.8543 - accuracy: 0.5151 - val_loss: 0.9947 - val_accuracy: 0.7780 - 2s/epoch - 7ms/step\n",
            "Epoch 2/20\n",
            "336/336 - 2s - loss: 0.6319 - accuracy: 0.8347 - val_loss: 0.4562 - val_accuracy: 0.8705 - 2s/epoch - 5ms/step\n",
            "Epoch 3/20\n",
            "336/336 - 2s - loss: 0.4038 - accuracy: 0.8849 - val_loss: 0.3592 - val_accuracy: 0.8988 - 2s/epoch - 5ms/step\n",
            "Epoch 4/20\n",
            "336/336 - 2s - loss: 0.3355 - accuracy: 0.9027 - val_loss: 0.3194 - val_accuracy: 0.9101 - 2s/epoch - 5ms/step\n",
            "Epoch 5/20\n",
            "336/336 - 2s - loss: 0.2977 - accuracy: 0.9121 - val_loss: 0.2848 - val_accuracy: 0.9163 - 2s/epoch - 5ms/step\n",
            "Epoch 6/20\n",
            "336/336 - 2s - loss: 0.2701 - accuracy: 0.9204 - val_loss: 0.2649 - val_accuracy: 0.9239 - 2s/epoch - 5ms/step\n",
            "Epoch 7/20\n",
            "336/336 - 2s - loss: 0.2480 - accuracy: 0.9286 - val_loss: 0.2446 - val_accuracy: 0.9300 - 2s/epoch - 5ms/step\n",
            "Epoch 8/20\n",
            "336/336 - 2s - loss: 0.2286 - accuracy: 0.9342 - val_loss: 0.2296 - val_accuracy: 0.9336 - 2s/epoch - 5ms/step\n",
            "Epoch 9/20\n",
            "336/336 - 2s - loss: 0.2138 - accuracy: 0.9391 - val_loss: 0.2219 - val_accuracy: 0.9327 - 2s/epoch - 5ms/step\n",
            "Epoch 10/20\n",
            "336/336 - 2s - loss: 0.1993 - accuracy: 0.9425 - val_loss: 0.2056 - val_accuracy: 0.9399 - 2s/epoch - 5ms/step\n",
            "Epoch 11/20\n",
            "336/336 - 2s - loss: 0.1865 - accuracy: 0.9462 - val_loss: 0.1993 - val_accuracy: 0.9394 - 2s/epoch - 5ms/step\n",
            "Epoch 12/20\n",
            "336/336 - 2s - loss: 0.1751 - accuracy: 0.9496 - val_loss: 0.1948 - val_accuracy: 0.9440 - 2s/epoch - 5ms/step\n",
            "Epoch 13/20\n",
            "336/336 - 2s - loss: 0.1644 - accuracy: 0.9530 - val_loss: 0.1814 - val_accuracy: 0.9474 - 2s/epoch - 5ms/step\n",
            "Epoch 14/20\n",
            "336/336 - 2s - loss: 0.1550 - accuracy: 0.9559 - val_loss: 0.1733 - val_accuracy: 0.9498 - 2s/epoch - 5ms/step\n",
            "Epoch 15/20\n",
            "336/336 - 2s - loss: 0.1465 - accuracy: 0.9585 - val_loss: 0.1691 - val_accuracy: 0.9523 - 2s/epoch - 5ms/step\n",
            "Epoch 16/20\n",
            "336/336 - 2s - loss: 0.1390 - accuracy: 0.9599 - val_loss: 0.1602 - val_accuracy: 0.9529 - 2s/epoch - 5ms/step\n",
            "Epoch 17/20\n",
            "336/336 - 2s - loss: 0.1317 - accuracy: 0.9627 - val_loss: 0.1562 - val_accuracy: 0.9543 - 2s/epoch - 5ms/step\n",
            "Epoch 18/20\n",
            "336/336 - 2s - loss: 0.1247 - accuracy: 0.9635 - val_loss: 0.1522 - val_accuracy: 0.9558 - 2s/epoch - 5ms/step\n",
            "Epoch 19/20\n",
            "336/336 - 2s - loss: 0.1182 - accuracy: 0.9665 - val_loss: 0.1478 - val_accuracy: 0.9556 - 2s/epoch - 5ms/step\n",
            "Epoch 20/20\n",
            "336/336 - 2s - loss: 0.1130 - accuracy: 0.9678 - val_loss: 0.1421 - val_accuracy: 0.9576 - 2s/epoch - 5ms/step\n"
          ]
        }
      ]
    },
    {
      "cell_type": "markdown",
      "source": [
        "Using a 4 layer neural network with:\n",
        "\n",
        "1. 20 training epochs\n",
        "2. A training batch size of 100\n",
        "3. Hidden layers set as (300, 100, 100, 200)\n",
        "4. Learning rate of 0.1\n"
      ],
      "metadata": {
        "_uuid": "6121bf7f8adbeaf85b3aef6167444b555b920440",
        "_execution_state": "idle",
        "_cell_guid": "2fee2dfc-23d2-480f-918e-54fb5386c4ea",
        "id": "VFeeaX4ZqdN9"
      }
    },
    {
      "cell_type": "code",
      "source": [
        "Inp = Input(shape=(784,))\n",
        "x = Dense(n_hidden_1, activation='relu', name = \"Hidden_Layer_1\")(Inp)\n",
        "x = Dense(n_hidden_2, activation='relu', name = \"Hidden_Layer_2\")(x)\n",
        "x = Dense(n_hidden_3, activation='relu', name = \"Hidden_Layer_3\")(x)\n",
        "x = Dense(n_hidden_4, activation='relu', name = \"Hidden_Layer_4\")(x)\n",
        "output = Dense(num_digits, activation='softmax', name = \"Output_Layer\")(x)\n",
        "\n",
        "# We rely on ADAM as our optimizing methodology\n",
        "adam = tf.keras.optimizers.Adam(lr=learning_rate)\n",
        "model2 = Model(Inp, output)\n",
        "\n",
        "model2.compile(loss='categorical_crossentropy',\n",
        "              optimizer='adam',\n",
        "              metrics=['accuracy'])"
      ],
      "metadata": {
        "_cell_guid": "4e7a2ba9-ac08-4355-a37f-2336220cfda7",
        "_uuid": "3d9c3ffb9722b640ea0682e5826971045091db66",
        "_execution_state": "busy",
        "jupyter": {
          "outputs_hidden": false
        },
        "colab": {
          "base_uri": "https://localhost:8080/"
        },
        "id": "qqVhzV2MqdN9",
        "outputId": "e449061f-1515-4ca7-91fb-8610883b3340"
      },
      "execution_count": 61,
      "outputs": [
        {
          "output_type": "stream",
          "name": "stderr",
          "text": [
            "/usr/local/lib/python3.7/dist-packages/keras/optimizer_v2/adam.py:105: UserWarning: The `lr` argument is deprecated, use `learning_rate` instead.\n",
            "  super(Adam, self).__init__(name, **kwargs)\n"
          ]
        }
      ]
    },
    {
      "cell_type": "code",
      "source": [
        "history2 = model2.fit(X_train, y_train,\n",
        "                      batch_size = batch_size,\n",
        "                      epochs = training_epochs,\n",
        "                      verbose = 2,\n",
        "                      validation_data=(X_cv, y_cv))"
      ],
      "metadata": {
        "_cell_guid": "e4470ac7-6888-4b10-a4e5-8bd4e22301cf",
        "_uuid": "7f94a2f9d7db89bf3fb28ecff64dbf7a496b0b9c",
        "_execution_state": "busy",
        "jupyter": {
          "outputs_hidden": false
        },
        "colab": {
          "base_uri": "https://localhost:8080/"
        },
        "id": "aRW2nsFIqdN-",
        "outputId": "6b52d7b8-88f7-4fb6-c5dd-d9541a8b6961"
      },
      "execution_count": 62,
      "outputs": [
        {
          "output_type": "stream",
          "name": "stdout",
          "text": [
            "Epoch 1/20\n",
            "336/336 - 2s - loss: 0.3292 - accuracy: 0.9018 - val_loss: 0.1517 - val_accuracy: 0.9543 - 2s/epoch - 7ms/step\n",
            "Epoch 2/20\n",
            "336/336 - 2s - loss: 0.1217 - accuracy: 0.9632 - val_loss: 0.1274 - val_accuracy: 0.9605 - 2s/epoch - 5ms/step\n",
            "Epoch 3/20\n",
            "336/336 - 2s - loss: 0.0806 - accuracy: 0.9756 - val_loss: 0.1145 - val_accuracy: 0.9673 - 2s/epoch - 5ms/step\n",
            "Epoch 4/20\n",
            "336/336 - 2s - loss: 0.0577 - accuracy: 0.9824 - val_loss: 0.0944 - val_accuracy: 0.9717 - 2s/epoch - 5ms/step\n",
            "Epoch 5/20\n",
            "336/336 - 2s - loss: 0.0456 - accuracy: 0.9855 - val_loss: 0.1063 - val_accuracy: 0.9727 - 2s/epoch - 6ms/step\n",
            "Epoch 6/20\n",
            "336/336 - 2s - loss: 0.0392 - accuracy: 0.9875 - val_loss: 0.1130 - val_accuracy: 0.9675 - 2s/epoch - 5ms/step\n",
            "Epoch 7/20\n",
            "336/336 - 2s - loss: 0.0305 - accuracy: 0.9899 - val_loss: 0.0999 - val_accuracy: 0.9743 - 2s/epoch - 5ms/step\n",
            "Epoch 8/20\n",
            "336/336 - 2s - loss: 0.0224 - accuracy: 0.9927 - val_loss: 0.1200 - val_accuracy: 0.9718 - 2s/epoch - 6ms/step\n",
            "Epoch 9/20\n",
            "336/336 - 3s - loss: 0.0294 - accuracy: 0.9905 - val_loss: 0.1036 - val_accuracy: 0.9748 - 3s/epoch - 8ms/step\n",
            "Epoch 10/20\n",
            "336/336 - 2s - loss: 0.0222 - accuracy: 0.9928 - val_loss: 0.1044 - val_accuracy: 0.9768 - 2s/epoch - 5ms/step\n",
            "Epoch 11/20\n",
            "336/336 - 2s - loss: 0.0186 - accuracy: 0.9939 - val_loss: 0.1308 - val_accuracy: 0.9737 - 2s/epoch - 6ms/step\n",
            "Epoch 12/20\n",
            "336/336 - 2s - loss: 0.0159 - accuracy: 0.9948 - val_loss: 0.1194 - val_accuracy: 0.9765 - 2s/epoch - 6ms/step\n",
            "Epoch 13/20\n",
            "336/336 - 2s - loss: 0.0219 - accuracy: 0.9930 - val_loss: 0.1236 - val_accuracy: 0.9733 - 2s/epoch - 5ms/step\n",
            "Epoch 14/20\n",
            "336/336 - 2s - loss: 0.0173 - accuracy: 0.9944 - val_loss: 0.1115 - val_accuracy: 0.9757 - 2s/epoch - 5ms/step\n",
            "Epoch 15/20\n",
            "336/336 - 2s - loss: 0.0117 - accuracy: 0.9963 - val_loss: 0.1378 - val_accuracy: 0.9745 - 2s/epoch - 6ms/step\n",
            "Epoch 16/20\n",
            "336/336 - 2s - loss: 0.0148 - accuracy: 0.9955 - val_loss: 0.1223 - val_accuracy: 0.9739 - 2s/epoch - 5ms/step\n",
            "Epoch 17/20\n",
            "336/336 - 2s - loss: 0.0125 - accuracy: 0.9961 - val_loss: 0.1106 - val_accuracy: 0.9777 - 2s/epoch - 5ms/step\n",
            "Epoch 18/20\n",
            "336/336 - 2s - loss: 0.0158 - accuracy: 0.9951 - val_loss: 0.1183 - val_accuracy: 0.9743 - 2s/epoch - 5ms/step\n",
            "Epoch 19/20\n",
            "336/336 - 2s - loss: 0.0083 - accuracy: 0.9971 - val_loss: 0.1178 - val_accuracy: 0.9792 - 2s/epoch - 5ms/step\n",
            "Epoch 20/20\n",
            "336/336 - 2s - loss: 0.0141 - accuracy: 0.9958 - val_loss: 0.1243 - val_accuracy: 0.9762 - 2s/epoch - 5ms/step\n"
          ]
        }
      ]
    },
    {
      "cell_type": "code",
      "source": [
        "Inp = Input(shape=(784,))\n",
        "x = Dense(n_hidden_1, activation='relu', name = \"Hidden_Layer_1\")(Inp)\n",
        "x = Dense(n_hidden_2, activation='relu', name = \"Hidden_Layer_2\")(x)\n",
        "x = Dense(n_hidden_3, activation='relu', name = \"Hidden_Layer_3\")(x)\n",
        "x = Dense(n_hidden_4, activation='relu', name = \"Hidden_Layer_4\")(x)\n",
        "output = Dense(num_digits, activation='softmax', name = \"Output_Layer\")(x)\n",
        "\n",
        "learning_rate = 0.01\n",
        "adam = tf.keras.optimizers.Adam(lr=learning_rate)\n",
        "model2a = Model(Inp, output)\n",
        "\n",
        "model2a.compile(loss='categorical_crossentropy',\n",
        "              optimizer='adam',\n",
        "              metrics=['accuracy'])"
      ],
      "metadata": {
        "_cell_guid": "da528246-4223-42ff-af96-cd3419c34507",
        "_uuid": "d2e88469ac4ed8ac19a195d71941178d8cdb7c32",
        "_execution_state": "busy",
        "jupyter": {
          "outputs_hidden": false
        },
        "colab": {
          "base_uri": "https://localhost:8080/"
        },
        "id": "I2FoL-gbqdN_",
        "outputId": "a7008f70-48e6-4a3a-d549-e5e091747e58"
      },
      "execution_count": 64,
      "outputs": [
        {
          "output_type": "stream",
          "name": "stderr",
          "text": [
            "/usr/local/lib/python3.7/dist-packages/keras/optimizer_v2/adam.py:105: UserWarning: The `lr` argument is deprecated, use `learning_rate` instead.\n",
            "  super(Adam, self).__init__(name, **kwargs)\n"
          ]
        }
      ]
    },
    {
      "cell_type": "code",
      "source": [
        "history2a = model2a.fit(X_train, y_train,\n",
        "                        batch_size = batch_size,\n",
        "                        epochs = training_epochs,\n",
        "                        verbose = 2,\n",
        "                        validation_data=(X_cv, y_cv))"
      ],
      "metadata": {
        "_cell_guid": "847391bb-4640-4117-a35e-5593d823bbc4",
        "_uuid": "8e397c8d027a4f27b1f72ac9333de51cbc335cd6",
        "_execution_state": "busy",
        "jupyter": {
          "outputs_hidden": false
        },
        "colab": {
          "base_uri": "https://localhost:8080/"
        },
        "id": "4sS6hvnMqdN_",
        "outputId": "1b6d1996-67e9-40b4-f2ea-8e73bd6268c8"
      },
      "execution_count": 65,
      "outputs": [
        {
          "output_type": "stream",
          "name": "stdout",
          "text": [
            "Epoch 1/20\n",
            "336/336 - 2s - loss: 0.3382 - accuracy: 0.9008 - val_loss: 0.1498 - val_accuracy: 0.9545 - 2s/epoch - 7ms/step\n",
            "Epoch 2/20\n",
            "336/336 - 2s - loss: 0.1224 - accuracy: 0.9620 - val_loss: 0.1145 - val_accuracy: 0.9655 - 2s/epoch - 5ms/step\n",
            "Epoch 3/20\n",
            "336/336 - 2s - loss: 0.0859 - accuracy: 0.9730 - val_loss: 0.0963 - val_accuracy: 0.9713 - 2s/epoch - 5ms/step\n",
            "Epoch 4/20\n",
            "336/336 - 2s - loss: 0.0568 - accuracy: 0.9819 - val_loss: 0.1003 - val_accuracy: 0.9705 - 2s/epoch - 6ms/step\n",
            "Epoch 5/20\n",
            "336/336 - 2s - loss: 0.0413 - accuracy: 0.9869 - val_loss: 0.0949 - val_accuracy: 0.9736 - 2s/epoch - 6ms/step\n",
            "Epoch 6/20\n",
            "336/336 - 2s - loss: 0.0367 - accuracy: 0.9877 - val_loss: 0.1035 - val_accuracy: 0.9727 - 2s/epoch - 5ms/step\n",
            "Epoch 7/20\n",
            "336/336 - 2s - loss: 0.0322 - accuracy: 0.9893 - val_loss: 0.1161 - val_accuracy: 0.9714 - 2s/epoch - 5ms/step\n",
            "Epoch 8/20\n",
            "336/336 - 2s - loss: 0.0246 - accuracy: 0.9923 - val_loss: 0.1245 - val_accuracy: 0.9683 - 2s/epoch - 5ms/step\n",
            "Epoch 9/20\n",
            "336/336 - 2s - loss: 0.0228 - accuracy: 0.9926 - val_loss: 0.0971 - val_accuracy: 0.9776 - 2s/epoch - 6ms/step\n",
            "Epoch 10/20\n",
            "336/336 - 2s - loss: 0.0238 - accuracy: 0.9926 - val_loss: 0.1118 - val_accuracy: 0.9713 - 2s/epoch - 5ms/step\n",
            "Epoch 11/20\n",
            "336/336 - 2s - loss: 0.0217 - accuracy: 0.9926 - val_loss: 0.1309 - val_accuracy: 0.9677 - 2s/epoch - 5ms/step\n",
            "Epoch 12/20\n",
            "336/336 - 2s - loss: 0.0212 - accuracy: 0.9924 - val_loss: 0.1039 - val_accuracy: 0.9763 - 2s/epoch - 5ms/step\n",
            "Epoch 13/20\n",
            "336/336 - 2s - loss: 0.0174 - accuracy: 0.9946 - val_loss: 0.1183 - val_accuracy: 0.9739 - 2s/epoch - 6ms/step\n",
            "Epoch 14/20\n",
            "336/336 - 2s - loss: 0.0118 - accuracy: 0.9960 - val_loss: 0.1135 - val_accuracy: 0.9770 - 2s/epoch - 6ms/step\n",
            "Epoch 15/20\n",
            "336/336 - 2s - loss: 0.0124 - accuracy: 0.9959 - val_loss: 0.1536 - val_accuracy: 0.9723 - 2s/epoch - 6ms/step\n",
            "Epoch 16/20\n",
            "336/336 - 2s - loss: 0.0149 - accuracy: 0.9951 - val_loss: 0.1533 - val_accuracy: 0.9720 - 2s/epoch - 5ms/step\n",
            "Epoch 17/20\n",
            "336/336 - 2s - loss: 0.0152 - accuracy: 0.9948 - val_loss: 0.1058 - val_accuracy: 0.9785 - 2s/epoch - 6ms/step\n",
            "Epoch 18/20\n",
            "336/336 - 2s - loss: 0.0125 - accuracy: 0.9960 - val_loss: 0.1222 - val_accuracy: 0.9755 - 2s/epoch - 5ms/step\n",
            "Epoch 19/20\n",
            "336/336 - 2s - loss: 0.0109 - accuracy: 0.9964 - val_loss: 0.1231 - val_accuracy: 0.9775 - 2s/epoch - 5ms/step\n",
            "Epoch 20/20\n",
            "336/336 - 2s - loss: 0.0105 - accuracy: 0.9965 - val_loss: 0.1238 - val_accuracy: 0.9760 - 2s/epoch - 5ms/step\n"
          ]
        }
      ]
    },
    {
      "cell_type": "markdown",
      "source": [
        "Model 2B"
      ],
      "metadata": {
        "_uuid": "42520a694b6caf71582c6d5aad5a8599d52e5096",
        "_execution_state": "idle",
        "_cell_guid": "590e8fcc-b3da-41e7-984d-d5d53aa5cb81",
        "id": "iDstVsIAqdN_"
      }
    },
    {
      "cell_type": "code",
      "source": [
        "Inp = Input(shape=(784,))\n",
        "x = Dense(n_hidden_1, activation='relu', name = \"Hidden_Layer_1\")(Inp)\n",
        "x = Dense(n_hidden_2, activation='relu', name = \"Hidden_Layer_2\")(x)\n",
        "x = Dense(n_hidden_3, activation='relu', name = \"Hidden_Layer_3\")(x)\n",
        "x = Dense(n_hidden_4, activation='relu', name = \"Hidden_Layer_4\")(x)\n",
        "output = Dense(num_digits, activation='softmax', name = \"Output_Layer\")(x)\n",
        "\n",
        "learning_rate = 0.5\n",
        "adam = tf.keras.optimizers.Adam(lr=learning_rate)\n",
        "model2b = Model(Inp, output)\n",
        "\n",
        "model2b.compile(loss='categorical_crossentropy',\n",
        "              optimizer='adam',\n",
        "              metrics=['accuracy'])"
      ],
      "metadata": {
        "_cell_guid": "18ef2f7d-f9a6-4609-8fd4-7d98cb7bc82f",
        "_uuid": "fbc0a1e06296ada3553c9328e48861645680bbf9",
        "_execution_state": "busy",
        "jupyter": {
          "outputs_hidden": false
        },
        "colab": {
          "base_uri": "https://localhost:8080/"
        },
        "id": "OJ5jAUuCqdN_",
        "outputId": "7360f8c9-710d-41a4-842f-4f9e119e4e88"
      },
      "execution_count": 67,
      "outputs": [
        {
          "output_type": "stream",
          "name": "stderr",
          "text": [
            "/usr/local/lib/python3.7/dist-packages/keras/optimizer_v2/adam.py:105: UserWarning: The `lr` argument is deprecated, use `learning_rate` instead.\n",
            "  super(Adam, self).__init__(name, **kwargs)\n"
          ]
        }
      ]
    },
    {
      "cell_type": "code",
      "source": [
        "history2b = model2b.fit(X_train, y_train,\n",
        "                        batch_size = batch_size,\n",
        "                        epochs = training_epochs,\n",
        "                            validation_data=(X_cv, y_cv))"
      ],
      "metadata": {
        "_cell_guid": "ad3ac83b-a040-42ba-9d62-2203e62a82ec",
        "_uuid": "c2e1a75c4a95acdfd3d5ce81af0c20bce995ca24",
        "_execution_state": "busy",
        "jupyter": {
          "outputs_hidden": false
        },
        "colab": {
          "base_uri": "https://localhost:8080/"
        },
        "id": "L4aNzyUuqdN_",
        "outputId": "8479ab6d-1443-4623-dc80-6321cfe422e4"
      },
      "execution_count": 68,
      "outputs": [
        {
          "output_type": "stream",
          "name": "stdout",
          "text": [
            "Epoch 1/20\n",
            "336/336 [==============================] - 3s 6ms/step - loss: 0.3440 - accuracy: 0.8986 - val_loss: 0.1658 - val_accuracy: 0.9515\n",
            "Epoch 2/20\n",
            "336/336 [==============================] - 2s 6ms/step - loss: 0.1239 - accuracy: 0.9610 - val_loss: 0.1183 - val_accuracy: 0.9632\n",
            "Epoch 3/20\n",
            "336/336 [==============================] - 2s 6ms/step - loss: 0.0829 - accuracy: 0.9736 - val_loss: 0.1033 - val_accuracy: 0.9690\n",
            "Epoch 4/20\n",
            "336/336 [==============================] - 2s 6ms/step - loss: 0.0607 - accuracy: 0.9804 - val_loss: 0.1042 - val_accuracy: 0.9686\n",
            "Epoch 5/20\n",
            "336/336 [==============================] - 2s 6ms/step - loss: 0.0452 - accuracy: 0.9860 - val_loss: 0.1274 - val_accuracy: 0.9650\n",
            "Epoch 6/20\n",
            "336/336 [==============================] - 2s 6ms/step - loss: 0.0404 - accuracy: 0.9865 - val_loss: 0.0956 - val_accuracy: 0.9731\n",
            "Epoch 7/20\n",
            "336/336 [==============================] - 2s 6ms/step - loss: 0.0326 - accuracy: 0.9894 - val_loss: 0.1090 - val_accuracy: 0.9720\n",
            "Epoch 8/20\n",
            "336/336 [==============================] - 2s 6ms/step - loss: 0.0251 - accuracy: 0.9918 - val_loss: 0.0957 - val_accuracy: 0.9755\n",
            "Epoch 9/20\n",
            "336/336 [==============================] - 2s 6ms/step - loss: 0.0212 - accuracy: 0.9932 - val_loss: 0.1088 - val_accuracy: 0.9729\n",
            "Epoch 10/20\n",
            "336/336 [==============================] - 2s 6ms/step - loss: 0.0195 - accuracy: 0.9939 - val_loss: 0.1158 - val_accuracy: 0.9726\n",
            "Epoch 11/20\n",
            "336/336 [==============================] - 2s 6ms/step - loss: 0.0195 - accuracy: 0.9937 - val_loss: 0.1209 - val_accuracy: 0.9713\n",
            "Epoch 12/20\n",
            "336/336 [==============================] - 2s 6ms/step - loss: 0.0139 - accuracy: 0.9957 - val_loss: 0.1059 - val_accuracy: 0.9768\n",
            "Epoch 13/20\n",
            "336/336 [==============================] - 2s 6ms/step - loss: 0.0202 - accuracy: 0.9931 - val_loss: 0.1085 - val_accuracy: 0.9752\n",
            "Epoch 14/20\n",
            "336/336 [==============================] - 2s 6ms/step - loss: 0.0172 - accuracy: 0.9951 - val_loss: 0.0980 - val_accuracy: 0.9781\n",
            "Epoch 15/20\n",
            "336/336 [==============================] - 2s 6ms/step - loss: 0.0102 - accuracy: 0.9967 - val_loss: 0.1207 - val_accuracy: 0.9754\n",
            "Epoch 16/20\n",
            "336/336 [==============================] - 2s 6ms/step - loss: 0.0164 - accuracy: 0.9956 - val_loss: 0.1005 - val_accuracy: 0.9781\n",
            "Epoch 17/20\n",
            "336/336 [==============================] - 2s 6ms/step - loss: 0.0125 - accuracy: 0.9958 - val_loss: 0.1378 - val_accuracy: 0.9712\n",
            "Epoch 18/20\n",
            "336/336 [==============================] - 2s 6ms/step - loss: 0.0145 - accuracy: 0.9956 - val_loss: 0.1424 - val_accuracy: 0.9723\n",
            "Epoch 19/20\n",
            "336/336 [==============================] - 2s 6ms/step - loss: 0.0142 - accuracy: 0.9954 - val_loss: 0.1211 - val_accuracy: 0.9781\n",
            "Epoch 20/20\n",
            "336/336 [==============================] - 2s 6ms/step - loss: 0.0108 - accuracy: 0.9965 - val_loss: 0.1135 - val_accuracy: 0.9789\n"
          ]
        }
      ]
    },
    {
      "cell_type": "markdown",
      "source": [
        "The accuracy, as measured by the 3 different learning rates 0.01, 0.1 and 0.5 are around 98%, 97% and 98% respectively. As there are no considerable gains by changing the learning rates, we stick with the default learning rate of 0.01.\n",
        "\n",
        "We proceed to fit a neural network with 5 hidden layers with the features in the hidden layer set as (300, 100, 100, 100, 200) respectively. To ensure that the two models are comparable, we will set the training epochs as 20, and the training batch size as 100."
      ],
      "metadata": {
        "_uuid": "a36eb4079d02e6d3997d107fc5e3dd3a452a0fc9",
        "_execution_state": "idle",
        "_cell_guid": "9189bb25-f243-4edf-a7a0-943ec633760d",
        "id": "JUlLpSz6qdOA"
      }
    },
    {
      "cell_type": "code",
      "source": [
        "# Input Parameters\n",
        "n_input = 784 # number of features\n",
        "n_hidden_1 = 300\n",
        "n_hidden_2 = 100\n",
        "n_hidden_3 = 100\n",
        "n_hidden_4 = 100\n",
        "n_hidden_5 = 200\n",
        "num_digits = 10"
      ],
      "metadata": {
        "_cell_guid": "25d57f65-533c-432b-bd4a-a3127101d4bb",
        "_uuid": "c19270be516858cca76b3479417e4017877896b1",
        "_execution_state": "busy",
        "jupyter": {
          "outputs_hidden": false
        },
        "id": "kFUi1h_PqdOA"
      },
      "execution_count": 69,
      "outputs": []
    },
    {
      "cell_type": "code",
      "source": [
        "Inp = Input(shape=(784,))\n",
        "x = Dense(n_hidden_1, activation='relu', name = \"Hidden_Layer_1\")(Inp)\n",
        "x = Dense(n_hidden_2, activation='relu', name = \"Hidden_Layer_2\")(x)\n",
        "x = Dense(n_hidden_3, activation='relu', name = \"Hidden_Layer_3\")(x)\n",
        "x = Dense(n_hidden_4, activation='relu', name = \"Hidden_Layer_4\")(x)\n",
        "x = Dense(n_hidden_5, activation='relu', name = \"Hidden_Layer_5\")(x)\n",
        "output = Dense(num_digits, activation='softmax', name = \"Output_Layer\")(x)"
      ],
      "metadata": {
        "_cell_guid": "d179df94-04b5-4d1e-ab7f-882a72442837",
        "_uuid": "c919e5d20e55f0c86152efbb729feeb0292abf0a",
        "_execution_state": "busy",
        "jupyter": {
          "outputs_hidden": false
        },
        "id": "AJUS3Mt2qdOA"
      },
      "execution_count": 70,
      "outputs": []
    },
    {
      "cell_type": "code",
      "source": [
        "# Our model would have '7' layers - input layer, 5 hidden layer and 1 output layer\n",
        "model3 = Model(Inp, output)\n",
        "model3.summary() # We have 308,010 parameters to estimate"
      ],
      "metadata": {
        "_cell_guid": "04f2f013-41ee-48a7-9204-cfe8b748e09c",
        "_uuid": "db189665726670192df8ed9e9758e908821f629b",
        "_execution_state": "busy",
        "jupyter": {
          "outputs_hidden": false
        },
        "colab": {
          "base_uri": "https://localhost:8080/"
        },
        "id": "-NrrNk3MqdOA",
        "outputId": "da7a25d7-94d9-4f18-cbf7-d469baef4c02"
      },
      "execution_count": 71,
      "outputs": [
        {
          "output_type": "stream",
          "name": "stdout",
          "text": [
            "Model: \"model_6\"\n",
            "_________________________________________________________________\n",
            " Layer (type)                Output Shape              Param #   \n",
            "=================================================================\n",
            " input_10 (InputLayer)       [(None, 784)]             0         \n",
            "                                                                 \n",
            " Hidden_Layer_1 (Dense)      (None, 300)               235500    \n",
            "                                                                 \n",
            " Hidden_Layer_2 (Dense)      (None, 100)               30100     \n",
            "                                                                 \n",
            " Hidden_Layer_3 (Dense)      (None, 100)               10100     \n",
            "                                                                 \n",
            " Hidden_Layer_4 (Dense)      (None, 100)               10100     \n",
            "                                                                 \n",
            " Hidden_Layer_5 (Dense)      (None, 200)               20200     \n",
            "                                                                 \n",
            " Output_Layer (Dense)        (None, 10)                2010      \n",
            "                                                                 \n",
            "=================================================================\n",
            "Total params: 308,010\n",
            "Trainable params: 308,010\n",
            "Non-trainable params: 0\n",
            "_________________________________________________________________\n"
          ]
        }
      ]
    },
    {
      "cell_type": "code",
      "source": [
        "# We rely on 'Adam' as our optimizing methodology\n",
        "adam = tf.keras.optimizers.Adam(lr=0.01)\n",
        "\n",
        "model3.compile(loss='categorical_crossentropy',\n",
        "              optimizer='adam',\n",
        "              metrics=['accuracy'])"
      ],
      "metadata": {
        "_cell_guid": "3da4e128-5987-4fb3-a2c7-93420c844d1d",
        "_uuid": "304ab7710bc6f2e56d698cc232fadbba6886b664",
        "_execution_state": "busy",
        "jupyter": {
          "outputs_hidden": false
        },
        "colab": {
          "base_uri": "https://localhost:8080/"
        },
        "id": "8t1FhBYKqdOA",
        "outputId": "6597f002-a7b1-4064-84b7-a62397a8ae4e"
      },
      "execution_count": 73,
      "outputs": [
        {
          "output_type": "stream",
          "name": "stderr",
          "text": [
            "/usr/local/lib/python3.7/dist-packages/keras/optimizer_v2/adam.py:105: UserWarning: The `lr` argument is deprecated, use `learning_rate` instead.\n",
            "  super(Adam, self).__init__(name, **kwargs)\n"
          ]
        }
      ]
    },
    {
      "cell_type": "code",
      "source": [
        "history3 = model3.fit(X_train, y_train,\n",
        "                      batch_size = batch_size,\n",
        "                      epochs = training_epochs,\n",
        "                      validation_data=(X_cv, y_cv))"
      ],
      "metadata": {
        "_cell_guid": "f7ac3e43-bf76-488d-8ec6-31ec98228ee6",
        "_uuid": "986fc367bbd1fc9767c30a03324c4d18e3bfd0d5",
        "_execution_state": "busy",
        "jupyter": {
          "outputs_hidden": false
        },
        "colab": {
          "base_uri": "https://localhost:8080/"
        },
        "id": "WImlVki_qdOA",
        "outputId": "8a3264f0-f431-416f-889c-185127d9ef86"
      },
      "execution_count": 74,
      "outputs": [
        {
          "output_type": "stream",
          "name": "stdout",
          "text": [
            "Epoch 1/20\n",
            "336/336 [==============================] - 3s 7ms/step - loss: 0.3601 - accuracy: 0.8881 - val_loss: 0.1559 - val_accuracy: 0.9521\n",
            "Epoch 2/20\n",
            "336/336 [==============================] - 3s 8ms/step - loss: 0.1305 - accuracy: 0.9594 - val_loss: 0.1276 - val_accuracy: 0.9613\n",
            "Epoch 3/20\n",
            "336/336 [==============================] - 4s 12ms/step - loss: 0.0841 - accuracy: 0.9734 - val_loss: 0.1162 - val_accuracy: 0.9651\n",
            "Epoch 4/20\n",
            "336/336 [==============================] - 3s 9ms/step - loss: 0.0621 - accuracy: 0.9808 - val_loss: 0.1237 - val_accuracy: 0.9640\n",
            "Epoch 5/20\n",
            "336/336 [==============================] - 2s 6ms/step - loss: 0.0527 - accuracy: 0.9837 - val_loss: 0.1052 - val_accuracy: 0.9712\n",
            "Epoch 6/20\n",
            "336/336 [==============================] - 2s 6ms/step - loss: 0.0423 - accuracy: 0.9864 - val_loss: 0.1081 - val_accuracy: 0.9700\n",
            "Epoch 7/20\n",
            "336/336 [==============================] - 2s 6ms/step - loss: 0.0345 - accuracy: 0.9885 - val_loss: 0.0942 - val_accuracy: 0.9752\n",
            "Epoch 8/20\n",
            "336/336 [==============================] - 2s 6ms/step - loss: 0.0269 - accuracy: 0.9916 - val_loss: 0.1060 - val_accuracy: 0.9749\n",
            "Epoch 9/20\n",
            "336/336 [==============================] - 2s 6ms/step - loss: 0.0255 - accuracy: 0.9924 - val_loss: 0.0969 - val_accuracy: 0.9739\n",
            "Epoch 10/20\n",
            "336/336 [==============================] - 2s 6ms/step - loss: 0.0219 - accuracy: 0.9933 - val_loss: 0.1233 - val_accuracy: 0.9711\n",
            "Epoch 11/20\n",
            "336/336 [==============================] - 2s 6ms/step - loss: 0.0184 - accuracy: 0.9946 - val_loss: 0.1120 - val_accuracy: 0.9762\n",
            "Epoch 12/20\n",
            "336/336 [==============================] - 2s 6ms/step - loss: 0.0205 - accuracy: 0.9935 - val_loss: 0.1157 - val_accuracy: 0.9750\n",
            "Epoch 13/20\n",
            "336/336 [==============================] - 2s 6ms/step - loss: 0.0254 - accuracy: 0.9928 - val_loss: 0.0879 - val_accuracy: 0.9776\n",
            "Epoch 14/20\n",
            "336/336 [==============================] - 2s 6ms/step - loss: 0.0176 - accuracy: 0.9944 - val_loss: 0.1252 - val_accuracy: 0.9740\n",
            "Epoch 15/20\n",
            "336/336 [==============================] - 2s 6ms/step - loss: 0.0192 - accuracy: 0.9940 - val_loss: 0.1058 - val_accuracy: 0.9761\n",
            "Epoch 16/20\n",
            "336/336 [==============================] - 2s 6ms/step - loss: 0.0156 - accuracy: 0.9950 - val_loss: 0.1404 - val_accuracy: 0.9692\n",
            "Epoch 17/20\n",
            "336/336 [==============================] - 2s 6ms/step - loss: 0.0132 - accuracy: 0.9960 - val_loss: 0.1013 - val_accuracy: 0.9782\n",
            "Epoch 18/20\n",
            "336/336 [==============================] - 2s 6ms/step - loss: 0.0148 - accuracy: 0.9952 - val_loss: 0.1193 - val_accuracy: 0.9752\n",
            "Epoch 19/20\n",
            "336/336 [==============================] - 2s 6ms/step - loss: 0.0100 - accuracy: 0.9966 - val_loss: 0.1260 - val_accuracy: 0.9739\n",
            "Epoch 20/20\n",
            "336/336 [==============================] - 2s 6ms/step - loss: 0.0123 - accuracy: 0.9960 - val_loss: 0.1304 - val_accuracy: 0.9740\n"
          ]
        }
      ]
    },
    {
      "cell_type": "markdown",
      "source": [
        "Compared to our first model, adding an additional layer did not significantly improve the accuracy from our previous model. However, there are computational costs (in terms of complexity) in implementing an additional layer in our neural network. Given that the benefits of an additional layer are low while the costs are high, we will stick with the 4 layer neural network.\n",
        "\n",
        "We now proceed to include dropout (dropout rate of 0.3) in our second model to prevent overfitting."
      ],
      "metadata": {
        "_uuid": "595cd530b900cf25bb1774eabd22afff49b980df",
        "_execution_state": "idle",
        "_cell_guid": "d6d4f220-5431-4221-be1d-2a6ceae86ac9",
        "id": "5pC1MahuqdOB"
      }
    },
    {
      "cell_type": "code",
      "source": [
        "# Input Parameters\n",
        "n_input = 784 # number of features\n",
        "n_hidden_1 = 300\n",
        "n_hidden_2 = 100\n",
        "n_hidden_3 = 100\n",
        "n_hidden_4 = 200\n",
        "num_digits = 10"
      ],
      "metadata": {
        "_cell_guid": "9054eb9b-e655-415c-93e7-3f0ca45d84ac",
        "_uuid": "608b71d5bd8dc23df6d916e7371887fd52dd24d8",
        "_execution_state": "busy",
        "jupyter": {
          "outputs_hidden": false
        },
        "id": "vz0P42lDqdOB"
      },
      "execution_count": 75,
      "outputs": []
    },
    {
      "cell_type": "code",
      "source": [
        "Inp = Input(shape=(784,))\n",
        "x = Dense(n_hidden_1, activation='relu', name = \"Hidden_Layer_1\")(Inp)\n",
        "x = Dropout(0.3)(x)\n",
        "x = Dense(n_hidden_2, activation='relu', name = \"Hidden_Layer_2\")(x)\n",
        "x = Dropout(0.3)(x)\n",
        "x = Dense(n_hidden_3, activation='relu', name = \"Hidden_Layer_3\")(x)\n",
        "x = Dropout(0.3)(x)\n",
        "x = Dense(n_hidden_4, activation='relu', name = \"Hidden_Layer_4\")(x)\n",
        "output = Dense(num_digits, activation='softmax', name = \"Output_Layer\")(x)"
      ],
      "metadata": {
        "_cell_guid": "0541e860-b2f6-43cd-8d00-254e9daf775a",
        "_uuid": "d6335bd113992a8898679d1a5d09ed2eda3fe5af",
        "_execution_state": "busy",
        "jupyter": {
          "outputs_hidden": false
        },
        "id": "9BQDIeprqdOB"
      },
      "execution_count": 76,
      "outputs": []
    },
    {
      "cell_type": "code",
      "source": [
        "# Our model would have '6' layers - input layer, 4 hidden layer and 1 output layer\n",
        "model4 = Model(Inp, output)\n",
        "model4.summary() # We have 297,910 parameters to estimate"
      ],
      "metadata": {
        "_cell_guid": "95f4299a-0e1c-4dca-b7d5-839e7a5e8fc8",
        "_uuid": "08e56562d89bcd25756bc5bbbb4f33ceb87f106e",
        "_execution_state": "busy",
        "jupyter": {
          "outputs_hidden": false
        },
        "colab": {
          "base_uri": "https://localhost:8080/"
        },
        "id": "jEowxiE9qdOB",
        "outputId": "95347023-f395-4957-8965-4b7da7391090"
      },
      "execution_count": 77,
      "outputs": [
        {
          "output_type": "stream",
          "name": "stdout",
          "text": [
            "Model: \"model_7\"\n",
            "_________________________________________________________________\n",
            " Layer (type)                Output Shape              Param #   \n",
            "=================================================================\n",
            " input_11 (InputLayer)       [(None, 784)]             0         \n",
            "                                                                 \n",
            " Hidden_Layer_1 (Dense)      (None, 300)               235500    \n",
            "                                                                 \n",
            " dropout (Dropout)           (None, 300)               0         \n",
            "                                                                 \n",
            " Hidden_Layer_2 (Dense)      (None, 100)               30100     \n",
            "                                                                 \n",
            " dropout_1 (Dropout)         (None, 100)               0         \n",
            "                                                                 \n",
            " Hidden_Layer_3 (Dense)      (None, 100)               10100     \n",
            "                                                                 \n",
            " dropout_2 (Dropout)         (None, 100)               0         \n",
            "                                                                 \n",
            " Hidden_Layer_4 (Dense)      (None, 200)               20200     \n",
            "                                                                 \n",
            " Output_Layer (Dense)        (None, 10)                2010      \n",
            "                                                                 \n",
            "=================================================================\n",
            "Total params: 297,910\n",
            "Trainable params: 297,910\n",
            "Non-trainable params: 0\n",
            "_________________________________________________________________\n"
          ]
        }
      ]
    },
    {
      "cell_type": "code",
      "source": [
        "model4.compile(loss='categorical_crossentropy',\n",
        "              optimizer='adam',\n",
        "              metrics=['accuracy'])"
      ],
      "metadata": {
        "_cell_guid": "ed1c4a9d-730e-4e4d-8a25-4448d877d5b6",
        "_uuid": "2328fa07b0f4c63448b0c30b7ae450df2b0fe3be",
        "_execution_state": "busy",
        "jupyter": {
          "outputs_hidden": false
        },
        "id": "7r-4iyYaqdOC"
      },
      "execution_count": 78,
      "outputs": []
    },
    {
      "cell_type": "code",
      "source": [
        "history = model4.fit(X_train, y_train,\n",
        "                    batch_size = batch_size,\n",
        "                    epochs = training_epochs,\n",
        "                    validation_data=(X_cv, y_cv))"
      ],
      "metadata": {
        "_cell_guid": "8543232e-da2b-46ce-9a5e-06e6283b854a",
        "_uuid": "986af85bbaf1b212b00cf28dc9204339b717ee48",
        "_execution_state": "busy",
        "jupyter": {
          "outputs_hidden": false
        },
        "colab": {
          "base_uri": "https://localhost:8080/"
        },
        "id": "-ctZGv2VqdOC",
        "outputId": "3cdbe187-7a45-47e5-a48d-aa56b4a09c8d"
      },
      "execution_count": 79,
      "outputs": [
        {
          "output_type": "stream",
          "name": "stdout",
          "text": [
            "Epoch 1/20\n",
            "336/336 [==============================] - 3s 9ms/step - loss: 0.5703 - accuracy: 0.8190 - val_loss: 0.1826 - val_accuracy: 0.9486\n",
            "Epoch 2/20\n",
            "336/336 [==============================] - 2s 7ms/step - loss: 0.2260 - accuracy: 0.9339 - val_loss: 0.1384 - val_accuracy: 0.9593\n",
            "Epoch 3/20\n",
            "336/336 [==============================] - 2s 7ms/step - loss: 0.1731 - accuracy: 0.9493 - val_loss: 0.1209 - val_accuracy: 0.9656\n",
            "Epoch 4/20\n",
            "336/336 [==============================] - 2s 6ms/step - loss: 0.1446 - accuracy: 0.9583 - val_loss: 0.1262 - val_accuracy: 0.9632\n",
            "Epoch 5/20\n",
            "336/336 [==============================] - 2s 6ms/step - loss: 0.1211 - accuracy: 0.9656 - val_loss: 0.0983 - val_accuracy: 0.9721\n",
            "Epoch 6/20\n",
            "336/336 [==============================] - 2s 7ms/step - loss: 0.1097 - accuracy: 0.9668 - val_loss: 0.0985 - val_accuracy: 0.9731\n",
            "Epoch 7/20\n",
            "336/336 [==============================] - 2s 6ms/step - loss: 0.1000 - accuracy: 0.9709 - val_loss: 0.0967 - val_accuracy: 0.9729\n",
            "Epoch 8/20\n",
            "336/336 [==============================] - 2s 7ms/step - loss: 0.0863 - accuracy: 0.9739 - val_loss: 0.0933 - val_accuracy: 0.9742\n",
            "Epoch 9/20\n",
            "336/336 [==============================] - 2s 7ms/step - loss: 0.0867 - accuracy: 0.9746 - val_loss: 0.0886 - val_accuracy: 0.9765\n",
            "Epoch 10/20\n",
            "336/336 [==============================] - 2s 7ms/step - loss: 0.0750 - accuracy: 0.9779 - val_loss: 0.0965 - val_accuracy: 0.9750\n",
            "Epoch 11/20\n",
            "336/336 [==============================] - 2s 7ms/step - loss: 0.0671 - accuracy: 0.9805 - val_loss: 0.0951 - val_accuracy: 0.9754\n",
            "Epoch 12/20\n",
            "336/336 [==============================] - 2s 7ms/step - loss: 0.0668 - accuracy: 0.9800 - val_loss: 0.0897 - val_accuracy: 0.9764\n",
            "Epoch 13/20\n",
            "336/336 [==============================] - 2s 7ms/step - loss: 0.0604 - accuracy: 0.9820 - val_loss: 0.0928 - val_accuracy: 0.9764\n",
            "Epoch 14/20\n",
            "336/336 [==============================] - 2s 6ms/step - loss: 0.0624 - accuracy: 0.9811 - val_loss: 0.0894 - val_accuracy: 0.9779\n",
            "Epoch 15/20\n",
            "336/336 [==============================] - 2s 6ms/step - loss: 0.0560 - accuracy: 0.9826 - val_loss: 0.0880 - val_accuracy: 0.9781\n",
            "Epoch 16/20\n",
            "336/336 [==============================] - 2s 6ms/step - loss: 0.0548 - accuracy: 0.9835 - val_loss: 0.0980 - val_accuracy: 0.9763\n",
            "Epoch 17/20\n",
            "336/336 [==============================] - 2s 7ms/step - loss: 0.0520 - accuracy: 0.9848 - val_loss: 0.0823 - val_accuracy: 0.9794\n",
            "Epoch 18/20\n",
            "336/336 [==============================] - 2s 7ms/step - loss: 0.0486 - accuracy: 0.9853 - val_loss: 0.0908 - val_accuracy: 0.9793\n",
            "Epoch 19/20\n",
            "336/336 [==============================] - 2s 6ms/step - loss: 0.0458 - accuracy: 0.9863 - val_loss: 0.0851 - val_accuracy: 0.9804\n",
            "Epoch 20/20\n",
            "336/336 [==============================] - 2s 7ms/step - loss: 0.0472 - accuracy: 0.9858 - val_loss: 0.0892 - val_accuracy: 0.9802\n"
          ]
        }
      ]
    },
    {
      "cell_type": "markdown",
      "source": [
        "With a validation score of close to 98%, we proceed to use this model to predict for the test set."
      ],
      "metadata": {
        "_uuid": "ad316467bedf355759a181d353850f1d365ee05b",
        "_execution_state": "idle",
        "_cell_guid": "07d922d5-ec8a-4b3b-8e02-a0aafc3ad52a",
        "id": "H3Kw7rOkqdOC"
      }
    },
    {
      "cell_type": "code",
      "source": [
        "test_pred = pd.DataFrame(model4.predict(X_test, batch_size=200))\n",
        "test_pred = pd.DataFrame(test_pred.idxmax(axis = 1))\n",
        "test_pred.index.name = 'ImageId'\n",
        "test_pred = test_pred.rename(columns = {0: 'Label'}).reset_index()\n",
        "test_pred['ImageId'] = test_pred['ImageId'] + 1\n",
        "\n",
        "test_pred.head()"
      ],
      "metadata": {
        "_cell_guid": "d07359be-0cb3-4e0b-9d3e-d8953f67211d",
        "_uuid": "8ae888d3b351dca6417ed4e3830688f1b75701ec",
        "_execution_state": "busy",
        "jupyter": {
          "outputs_hidden": false
        },
        "colab": {
          "base_uri": "https://localhost:8080/",
          "height": 206
        },
        "id": "rjbTXiXKqdOC",
        "outputId": "fd67d553-2281-4151-e638-5aaec31a06ff"
      },
      "execution_count": 80,
      "outputs": [
        {
          "output_type": "execute_result",
          "data": {
            "text/plain": [
              "   ImageId  Label\n",
              "0        1      8\n",
              "1        2      8\n",
              "2        3      8\n",
              "3        4      8\n",
              "4        5      8"
            ],
            "text/html": [
              "\n",
              "  <div id=\"df-77304f6f-0d9c-4cb6-8803-346f05a01d71\">\n",
              "    <div class=\"colab-df-container\">\n",
              "      <div>\n",
              "<style scoped>\n",
              "    .dataframe tbody tr th:only-of-type {\n",
              "        vertical-align: middle;\n",
              "    }\n",
              "\n",
              "    .dataframe tbody tr th {\n",
              "        vertical-align: top;\n",
              "    }\n",
              "\n",
              "    .dataframe thead th {\n",
              "        text-align: right;\n",
              "    }\n",
              "</style>\n",
              "<table border=\"1\" class=\"dataframe\">\n",
              "  <thead>\n",
              "    <tr style=\"text-align: right;\">\n",
              "      <th></th>\n",
              "      <th>ImageId</th>\n",
              "      <th>Label</th>\n",
              "    </tr>\n",
              "  </thead>\n",
              "  <tbody>\n",
              "    <tr>\n",
              "      <th>0</th>\n",
              "      <td>1</td>\n",
              "      <td>8</td>\n",
              "    </tr>\n",
              "    <tr>\n",
              "      <th>1</th>\n",
              "      <td>2</td>\n",
              "      <td>8</td>\n",
              "    </tr>\n",
              "    <tr>\n",
              "      <th>2</th>\n",
              "      <td>3</td>\n",
              "      <td>8</td>\n",
              "    </tr>\n",
              "    <tr>\n",
              "      <th>3</th>\n",
              "      <td>4</td>\n",
              "      <td>8</td>\n",
              "    </tr>\n",
              "    <tr>\n",
              "      <th>4</th>\n",
              "      <td>5</td>\n",
              "      <td>8</td>\n",
              "    </tr>\n",
              "  </tbody>\n",
              "</table>\n",
              "</div>\n",
              "      <button class=\"colab-df-convert\" onclick=\"convertToInteractive('df-77304f6f-0d9c-4cb6-8803-346f05a01d71')\"\n",
              "              title=\"Convert this dataframe to an interactive table.\"\n",
              "              style=\"display:none;\">\n",
              "        \n",
              "  <svg xmlns=\"http://www.w3.org/2000/svg\" height=\"24px\"viewBox=\"0 0 24 24\"\n",
              "       width=\"24px\">\n",
              "    <path d=\"M0 0h24v24H0V0z\" fill=\"none\"/>\n",
              "    <path d=\"M18.56 5.44l.94 2.06.94-2.06 2.06-.94-2.06-.94-.94-2.06-.94 2.06-2.06.94zm-11 1L8.5 8.5l.94-2.06 2.06-.94-2.06-.94L8.5 2.5l-.94 2.06-2.06.94zm10 10l.94 2.06.94-2.06 2.06-.94-2.06-.94-.94-2.06-.94 2.06-2.06.94z\"/><path d=\"M17.41 7.96l-1.37-1.37c-.4-.4-.92-.59-1.43-.59-.52 0-1.04.2-1.43.59L10.3 9.45l-7.72 7.72c-.78.78-.78 2.05 0 2.83L4 21.41c.39.39.9.59 1.41.59.51 0 1.02-.2 1.41-.59l7.78-7.78 2.81-2.81c.8-.78.8-2.07 0-2.86zM5.41 20L4 18.59l7.72-7.72 1.47 1.35L5.41 20z\"/>\n",
              "  </svg>\n",
              "      </button>\n",
              "      \n",
              "  <style>\n",
              "    .colab-df-container {\n",
              "      display:flex;\n",
              "      flex-wrap:wrap;\n",
              "      gap: 12px;\n",
              "    }\n",
              "\n",
              "    .colab-df-convert {\n",
              "      background-color: #E8F0FE;\n",
              "      border: none;\n",
              "      border-radius: 50%;\n",
              "      cursor: pointer;\n",
              "      display: none;\n",
              "      fill: #1967D2;\n",
              "      height: 32px;\n",
              "      padding: 0 0 0 0;\n",
              "      width: 32px;\n",
              "    }\n",
              "\n",
              "    .colab-df-convert:hover {\n",
              "      background-color: #E2EBFA;\n",
              "      box-shadow: 0px 1px 2px rgba(60, 64, 67, 0.3), 0px 1px 3px 1px rgba(60, 64, 67, 0.15);\n",
              "      fill: #174EA6;\n",
              "    }\n",
              "\n",
              "    [theme=dark] .colab-df-convert {\n",
              "      background-color: #3B4455;\n",
              "      fill: #D2E3FC;\n",
              "    }\n",
              "\n",
              "    [theme=dark] .colab-df-convert:hover {\n",
              "      background-color: #434B5C;\n",
              "      box-shadow: 0px 1px 3px 1px rgba(0, 0, 0, 0.15);\n",
              "      filter: drop-shadow(0px 1px 2px rgba(0, 0, 0, 0.3));\n",
              "      fill: #FFFFFF;\n",
              "    }\n",
              "  </style>\n",
              "\n",
              "      <script>\n",
              "        const buttonEl =\n",
              "          document.querySelector('#df-77304f6f-0d9c-4cb6-8803-346f05a01d71 button.colab-df-convert');\n",
              "        buttonEl.style.display =\n",
              "          google.colab.kernel.accessAllowed ? 'block' : 'none';\n",
              "\n",
              "        async function convertToInteractive(key) {\n",
              "          const element = document.querySelector('#df-77304f6f-0d9c-4cb6-8803-346f05a01d71');\n",
              "          const dataTable =\n",
              "            await google.colab.kernel.invokeFunction('convertToInteractive',\n",
              "                                                     [key], {});\n",
              "          if (!dataTable) return;\n",
              "\n",
              "          const docLinkHtml = 'Like what you see? Visit the ' +\n",
              "            '<a target=\"_blank\" href=https://colab.research.google.com/notebooks/data_table.ipynb>data table notebook</a>'\n",
              "            + ' to learn more about interactive tables.';\n",
              "          element.innerHTML = '';\n",
              "          dataTable['output_type'] = 'display_data';\n",
              "          await google.colab.output.renderOutput(dataTable, element);\n",
              "          const docLink = document.createElement('div');\n",
              "          docLink.innerHTML = docLinkHtml;\n",
              "          element.appendChild(docLink);\n",
              "        }\n",
              "      </script>\n",
              "    </div>\n",
              "  </div>\n",
              "  "
            ]
          },
          "metadata": {},
          "execution_count": 80
        }
      ]
    },
    {
      "cell_type": "code",
      "source": [
        "test_pred.to_csv('mnist_submission.csv', index = False)"
      ],
      "metadata": {
        "_cell_guid": "2a132e08-be9b-4efa-89bc-6fc9952b6fde",
        "_uuid": "02492c073118b428bb2c4937840e12c35f1a0fd4",
        "_execution_state": "busy",
        "jupyter": {
          "outputs_hidden": false
        },
        "id": "7d2qDDc3qdOC"
      },
      "execution_count": 81,
      "outputs": []
    },
    {
      "cell_type": "markdown",
      "source": [
        "Using this model, we are able to achieve a score of 0.976, which places us at the top 55th percentile!"
      ],
      "metadata": {
        "_uuid": "515b774eafeacae442e19e3fae989a49f6904837",
        "_execution_state": "idle",
        "_cell_guid": "1510902d-0b15-4b5b-9268-e4f8e1544222",
        "id": "SuQSa2_JqdOC"
      }
    }
  ]
}